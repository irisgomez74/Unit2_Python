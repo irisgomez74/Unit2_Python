{
  "nbformat": 4,
  "nbformat_minor": 0,
  "metadata": {
    "colab": {
      "name": "Unit 3 Mini Project.ipynb",
      "provenance": [],
      "authorship_tag": "ABX9TyMZFli5EHUk+XBhR58VGVf1",
      "include_colab_link": true
    },
    "kernelspec": {
      "name": "python3",
      "display_name": "Python 3"
    }
  },
  "cells": [
    {
      "cell_type": "markdown",
      "metadata": {
        "id": "view-in-github",
        "colab_type": "text"
      },
      "source": [
        "<a href=\"https://colab.research.google.com/github/irisgomez74/Unit2_Python/blob/main/Unit_3_Mini_Project.ipynb\" target=\"_parent\"><img src=\"https://colab.research.google.com/assets/colab-badge.svg\" alt=\"Open In Colab\"/></a>"
      ]
    },
    {
      "cell_type": "code",
      "metadata": {
        "colab": {
          "base_uri": "https://localhost:8080/"
        },
        "id": "AsQnLEhVXqfe",
        "outputId": "efd4ace5-23fa-46b9-822e-081f08dbb80e"
      },
      "source": [
        "#Task 1 Environment Setup\r\n",
        "import pandas as pd\r\n",
        "import numpy as np\r\n",
        "\r\n",
        "df = pd.read_csv('https://raw.githubusercontent.com/nytimes/covid-19-data/master/us-counties.csv')\r\n",
        "df.columns"
      ],
      "execution_count": 17,
      "outputs": [
        {
          "output_type": "execute_result",
          "data": {
            "text/plain": [
              "Index(['date', 'county', 'state', 'fips', 'cases', 'deaths'], dtype='object')"
            ]
          },
          "metadata": {
            "tags": []
          },
          "execution_count": 17
        }
      ]
    },
    {
      "cell_type": "code",
      "metadata": {
        "colab": {
          "base_uri": "https://localhost:8080/"
        },
        "id": "ySbI50EjYLZI",
        "outputId": "179b2007-8272-4a09-972e-7e9778148740"
      },
      "source": [
        "#show all the cases by state\r\n",
        "df.groupby(['state'])['cases'].max()\r\n"
      ],
      "execution_count": 27,
      "outputs": [
        {
          "output_type": "execute_result",
          "data": {
            "text/plain": [
              "state\n",
              "Alabama                      61313\n",
              "Alaska                       24408\n",
              "Arizona                     411703\n",
              "Arkansas                     29772\n",
              "California                  990326\n",
              "Colorado                     52917\n",
              "Connecticut                  65725\n",
              "Delaware                     39339\n",
              "District of Columbia         33140\n",
              "Florida                     339433\n",
              "Georgia                      70719\n",
              "Guam                          8443\n",
              "Hawaii                       19855\n",
              "Idaho                        42160\n",
              "Illinois                    429270\n",
              "Indiana                      80752\n",
              "Iowa                         45207\n",
              "Kansas                       46446\n",
              "Kentucky                     60457\n",
              "Louisiana                    37200\n",
              "Maine                         9650\n",
              "Maryland                     61985\n",
              "Massachusetts                90918\n",
              "Michigan                     92074\n",
              "Minnesota                    92172\n",
              "Mississippi                  16841\n",
              "Missouri                     77487\n",
              "Montana                      14654\n",
              "Nebraska                     58043\n",
              "Nevada                      197652\n",
              "New Hampshire                21958\n",
              "New Jersey                   59684\n",
              "New Mexico                   45903\n",
              "New York                    517963\n",
              "North Carolina               75482\n",
              "North Dakota                 20573\n",
              "Northern Mariana Islands       126\n",
              "Ohio                         96280\n",
              "Oklahoma                     67719\n",
              "Oregon                       28068\n",
              "Pennsylvania                102837\n",
              "Puerto Rico                  16416\n",
              "Rhode Island                 67526\n",
              "South Carolina               47621\n",
              "South Dakota                 26288\n",
              "Tennessee                    78270\n",
              "Texas                       278312\n",
              "Utah                        121050\n",
              "Vermont                       3419\n",
              "Virgin Islands                1096\n",
              "Virginia                     51756\n",
              "Washington                   72255\n",
              "West Virginia                10094\n",
              "Wisconsin                    98795\n",
              "Wyoming                       7706\n",
              "Name: cases, dtype: int64"
            ]
          },
          "metadata": {
            "tags": []
          },
          "execution_count": 27
        }
      ]
    },
    {
      "cell_type": "code",
      "metadata": {
        "id": "f2kX1W65p-hG"
      },
      "source": [
        "import matplotlib.pyplot as plt\r\n",
        "%matplotlib inline\r\n"
      ],
      "execution_count": 71,
      "outputs": []
    },
    {
      "cell_type": "code",
      "metadata": {
        "colab": {
          "base_uri": "https://localhost:8080/",
          "height": 412
        },
        "id": "srUuScPiqSA8",
        "outputId": "52c150b9-089b-48c4-deda-5b9224c6123c"
      },
      "source": [
        "df.groupby(['state'])['cases'].count().sort_values(ascending=True).plot(kind='bar')"
      ],
      "execution_count": 37,
      "outputs": [
        {
          "output_type": "execute_result",
          "data": {
            "text/plain": [
              "<matplotlib.axes._subplots.AxesSubplot at 0x7fb9f483ba90>"
            ]
          },
          "metadata": {
            "tags": []
          },
          "execution_count": 37
        },
        {
          "output_type": "display_data",
          "data": {
            "image/png": "[encoded data removed]",
            "text/plain": [
              "<Figure size 432x288 with 1 Axes>"
            ]
          },
          "metadata": {
            "tags": [],
            "needs_background": "light"
          }
        }
      ]
    },
    {
      "cell_type": "code",
      "metadata": {
        "colab": {
          "base_uri": "https://localhost:8080/",
          "height": 419
        },
        "id": "QhJCntnmYwJ2",
        "outputId": "73ca77db-b2ab-49af-8285-28ae7c77b4ed"
      },
      "source": [
        "#Data filtered by Westchester county, New York state\r\n",
        "westchester_df = df[(df['state']=='New York') & (df['county']=='Westchester')]\r\n",
        "westchester_df\r\n"
      ],
      "execution_count": 34,
      "outputs": [
        {
          "output_type": "execute_result",
          "data": {
            "text/html": [
              "<div>\n",
              "<style scoped>\n",
              "    .dataframe tbody tr th:only-of-type {\n",
              "        vertical-align: middle;\n",
              "    }\n",
              "\n",
              "    .dataframe tbody tr th {\n",
              "        vertical-align: top;\n",
              "    }\n",
              "\n",
              "    .dataframe thead th {\n",
              "        text-align: right;\n",
              "    }\n",
              "</style>\n",
              "<table border=\"1\" class=\"dataframe\">\n",
              "  <thead>\n",
              "    <tr style=\"text-align: right;\">\n",
              "      <th></th>\n",
              "      <th>date</th>\n",
              "      <th>county</th>\n",
              "      <th>state</th>\n",
              "      <th>fips</th>\n",
              "      <th>cases</th>\n",
              "      <th>deaths</th>\n",
              "    </tr>\n",
              "  </thead>\n",
              "  <tbody>\n",
              "    <tr>\n",
              "      <th>519</th>\n",
              "      <td>2020-03-04</td>\n",
              "      <td>Westchester</td>\n",
              "      <td>New York</td>\n",
              "      <td>36119.0</td>\n",
              "      <td>9</td>\n",
              "      <td>0.0</td>\n",
              "    </tr>\n",
              "    <tr>\n",
              "      <th>566</th>\n",
              "      <td>2020-03-05</td>\n",
              "      <td>Westchester</td>\n",
              "      <td>New York</td>\n",
              "      <td>36119.0</td>\n",
              "      <td>17</td>\n",
              "      <td>0.0</td>\n",
              "    </tr>\n",
              "    <tr>\n",
              "      <th>629</th>\n",
              "      <td>2020-03-06</td>\n",
              "      <td>Westchester</td>\n",
              "      <td>New York</td>\n",
              "      <td>36119.0</td>\n",
              "      <td>33</td>\n",
              "      <td>0.0</td>\n",
              "    </tr>\n",
              "    <tr>\n",
              "      <th>718</th>\n",
              "      <td>2020-03-07</td>\n",
              "      <td>Westchester</td>\n",
              "      <td>New York</td>\n",
              "      <td>36119.0</td>\n",
              "      <td>69</td>\n",
              "      <td>0.0</td>\n",
              "    </tr>\n",
              "    <tr>\n",
              "      <th>825</th>\n",
              "      <td>2020-03-08</td>\n",
              "      <td>Westchester</td>\n",
              "      <td>New York</td>\n",
              "      <td>36119.0</td>\n",
              "      <td>81</td>\n",
              "      <td>0.0</td>\n",
              "    </tr>\n",
              "    <tr>\n",
              "      <th>...</th>\n",
              "      <td>...</td>\n",
              "      <td>...</td>\n",
              "      <td>...</td>\n",
              "      <td>...</td>\n",
              "      <td>...</td>\n",
              "      <td>...</td>\n",
              "    </tr>\n",
              "    <tr>\n",
              "      <th>919172</th>\n",
              "      <td>2021-01-11</td>\n",
              "      <td>Westchester</td>\n",
              "      <td>New York</td>\n",
              "      <td>36119.0</td>\n",
              "      <td>78533</td>\n",
              "      <td>1736.0</td>\n",
              "    </tr>\n",
              "    <tr>\n",
              "      <th>922417</th>\n",
              "      <td>2021-01-12</td>\n",
              "      <td>Westchester</td>\n",
              "      <td>New York</td>\n",
              "      <td>36119.0</td>\n",
              "      <td>79405</td>\n",
              "      <td>1744.0</td>\n",
              "    </tr>\n",
              "    <tr>\n",
              "      <th>925663</th>\n",
              "      <td>2021-01-13</td>\n",
              "      <td>Westchester</td>\n",
              "      <td>New York</td>\n",
              "      <td>36119.0</td>\n",
              "      <td>80145</td>\n",
              "      <td>1750.0</td>\n",
              "    </tr>\n",
              "    <tr>\n",
              "      <th>928908</th>\n",
              "      <td>2021-01-14</td>\n",
              "      <td>Westchester</td>\n",
              "      <td>New York</td>\n",
              "      <td>36119.0</td>\n",
              "      <td>80868</td>\n",
              "      <td>1763.0</td>\n",
              "    </tr>\n",
              "    <tr>\n",
              "      <th>932153</th>\n",
              "      <td>2021-01-15</td>\n",
              "      <td>Westchester</td>\n",
              "      <td>New York</td>\n",
              "      <td>36119.0</td>\n",
              "      <td>81981</td>\n",
              "      <td>1774.0</td>\n",
              "    </tr>\n",
              "  </tbody>\n",
              "</table>\n",
              "<p>318 rows × 6 columns</p>\n",
              "</div>"
            ],
            "text/plain": [
              "              date       county     state     fips  cases  deaths\n",
              "519     2020-03-04  Westchester  New York  36119.0      9     0.0\n",
              "566     2020-03-05  Westchester  New York  36119.0     17     0.0\n",
              "629     2020-03-06  Westchester  New York  36119.0     33     0.0\n",
              "718     2020-03-07  Westchester  New York  36119.0     69     0.0\n",
              "825     2020-03-08  Westchester  New York  36119.0     81     0.0\n",
              "...            ...          ...       ...      ...    ...     ...\n",
              "919172  2021-01-11  Westchester  New York  36119.0  78533  1736.0\n",
              "922417  2021-01-12  Westchester  New York  36119.0  79405  1744.0\n",
              "925663  2021-01-13  Westchester  New York  36119.0  80145  1750.0\n",
              "928908  2021-01-14  Westchester  New York  36119.0  80868  1763.0\n",
              "932153  2021-01-15  Westchester  New York  36119.0  81981  1774.0\n",
              "\n",
              "[318 rows x 6 columns]"
            ]
          },
          "metadata": {
            "tags": []
          },
          "execution_count": 34
        }
      ]
    },
    {
      "cell_type": "code",
      "metadata": {
        "colab": {
          "base_uri": "https://localhost:8080/",
          "height": 1000
        },
        "id": "Vwn2IC58dbUI",
        "outputId": "304e5f94-5b96-4eb4-8966-95590b515ec2"
      },
      "source": [
        "#data filtered by month of December for Westchester county NY\r\n",
        "latest_data = westchester_df[(df['date'] > '2020-12-01') & (df['date'] < '2021-01-01')]\r\n",
        "latest_data"
      ],
      "execution_count": 35,
      "outputs": [
        {
          "output_type": "stream",
          "text": [
            "/usr/local/lib/python3.6/dist-packages/ipykernel_launcher.py:1: UserWarning: Boolean Series key will be reindexed to match DataFrame index.\n",
            "  \"\"\"Entry point for launching an IPython kernel.\n"
          ],
          "name": "stderr"
        },
        {
          "output_type": "execute_result",
          "data": {
            "text/html": [
              "<div>\n",
              "<style scoped>\n",
              "    .dataframe tbody tr th:only-of-type {\n",
              "        vertical-align: middle;\n",
              "    }\n",
              "\n",
              "    .dataframe tbody tr th {\n",
              "        vertical-align: top;\n",
              "    }\n",
              "\n",
              "    .dataframe thead th {\n",
              "        text-align: right;\n",
              "    }\n",
              "</style>\n",
              "<table border=\"1\" class=\"dataframe\">\n",
              "  <thead>\n",
              "    <tr style=\"text-align: right;\">\n",
              "      <th></th>\n",
              "      <th>date</th>\n",
              "      <th>county</th>\n",
              "      <th>state</th>\n",
              "      <th>fips</th>\n",
              "      <th>cases</th>\n",
              "      <th>deaths</th>\n",
              "    </tr>\n",
              "  </thead>\n",
              "  <tbody>\n",
              "    <tr>\n",
              "      <th>789354</th>\n",
              "      <td>2020-12-02</td>\n",
              "      <td>Westchester</td>\n",
              "      <td>New York</td>\n",
              "      <td>36119.0</td>\n",
              "      <td>51789</td>\n",
              "      <td>1520.0</td>\n",
              "    </tr>\n",
              "    <tr>\n",
              "      <th>792600</th>\n",
              "      <td>2020-12-03</td>\n",
              "      <td>Westchester</td>\n",
              "      <td>New York</td>\n",
              "      <td>36119.0</td>\n",
              "      <td>52417</td>\n",
              "      <td>1525.0</td>\n",
              "    </tr>\n",
              "    <tr>\n",
              "      <th>795845</th>\n",
              "      <td>2020-12-04</td>\n",
              "      <td>Westchester</td>\n",
              "      <td>New York</td>\n",
              "      <td>36119.0</td>\n",
              "      <td>53185</td>\n",
              "      <td>1527.0</td>\n",
              "    </tr>\n",
              "    <tr>\n",
              "      <th>799091</th>\n",
              "      <td>2020-12-05</td>\n",
              "      <td>Westchester</td>\n",
              "      <td>New York</td>\n",
              "      <td>36119.0</td>\n",
              "      <td>53943</td>\n",
              "      <td>1527.0</td>\n",
              "    </tr>\n",
              "    <tr>\n",
              "      <th>802337</th>\n",
              "      <td>2020-12-06</td>\n",
              "      <td>Westchester</td>\n",
              "      <td>New York</td>\n",
              "      <td>36119.0</td>\n",
              "      <td>54670</td>\n",
              "      <td>1529.0</td>\n",
              "    </tr>\n",
              "    <tr>\n",
              "      <th>805582</th>\n",
              "      <td>2020-12-07</td>\n",
              "      <td>Westchester</td>\n",
              "      <td>New York</td>\n",
              "      <td>36119.0</td>\n",
              "      <td>55186</td>\n",
              "      <td>1534.0</td>\n",
              "    </tr>\n",
              "    <tr>\n",
              "      <th>808827</th>\n",
              "      <td>2020-12-08</td>\n",
              "      <td>Westchester</td>\n",
              "      <td>New York</td>\n",
              "      <td>36119.0</td>\n",
              "      <td>55796</td>\n",
              "      <td>1539.0</td>\n",
              "    </tr>\n",
              "    <tr>\n",
              "      <th>812072</th>\n",
              "      <td>2020-12-09</td>\n",
              "      <td>Westchester</td>\n",
              "      <td>New York</td>\n",
              "      <td>36119.0</td>\n",
              "      <td>56371</td>\n",
              "      <td>1545.0</td>\n",
              "    </tr>\n",
              "    <tr>\n",
              "      <th>815317</th>\n",
              "      <td>2020-12-10</td>\n",
              "      <td>Westchester</td>\n",
              "      <td>New York</td>\n",
              "      <td>36119.0</td>\n",
              "      <td>56994</td>\n",
              "      <td>1550.0</td>\n",
              "    </tr>\n",
              "    <tr>\n",
              "      <th>818563</th>\n",
              "      <td>2020-12-11</td>\n",
              "      <td>Westchester</td>\n",
              "      <td>New York</td>\n",
              "      <td>36119.0</td>\n",
              "      <td>57605</td>\n",
              "      <td>1553.0</td>\n",
              "    </tr>\n",
              "    <tr>\n",
              "      <th>821809</th>\n",
              "      <td>2020-12-12</td>\n",
              "      <td>Westchester</td>\n",
              "      <td>New York</td>\n",
              "      <td>36119.0</td>\n",
              "      <td>58243</td>\n",
              "      <td>1558.0</td>\n",
              "    </tr>\n",
              "    <tr>\n",
              "      <th>825056</th>\n",
              "      <td>2020-12-13</td>\n",
              "      <td>Westchester</td>\n",
              "      <td>New York</td>\n",
              "      <td>36119.0</td>\n",
              "      <td>58836</td>\n",
              "      <td>1562.0</td>\n",
              "    </tr>\n",
              "    <tr>\n",
              "      <th>828302</th>\n",
              "      <td>2020-12-14</td>\n",
              "      <td>Westchester</td>\n",
              "      <td>New York</td>\n",
              "      <td>36119.0</td>\n",
              "      <td>59430</td>\n",
              "      <td>1568.0</td>\n",
              "    </tr>\n",
              "    <tr>\n",
              "      <th>831549</th>\n",
              "      <td>2020-12-15</td>\n",
              "      <td>Westchester</td>\n",
              "      <td>New York</td>\n",
              "      <td>36119.0</td>\n",
              "      <td>59990</td>\n",
              "      <td>1575.0</td>\n",
              "    </tr>\n",
              "    <tr>\n",
              "      <th>834795</th>\n",
              "      <td>2020-12-16</td>\n",
              "      <td>Westchester</td>\n",
              "      <td>New York</td>\n",
              "      <td>36119.0</td>\n",
              "      <td>60539</td>\n",
              "      <td>1581.0</td>\n",
              "    </tr>\n",
              "    <tr>\n",
              "      <th>838041</th>\n",
              "      <td>2020-12-17</td>\n",
              "      <td>Westchester</td>\n",
              "      <td>New York</td>\n",
              "      <td>36119.0</td>\n",
              "      <td>61110</td>\n",
              "      <td>1584.0</td>\n",
              "    </tr>\n",
              "    <tr>\n",
              "      <th>841286</th>\n",
              "      <td>2020-12-18</td>\n",
              "      <td>Westchester</td>\n",
              "      <td>New York</td>\n",
              "      <td>36119.0</td>\n",
              "      <td>61826</td>\n",
              "      <td>1594.0</td>\n",
              "    </tr>\n",
              "    <tr>\n",
              "      <th>844532</th>\n",
              "      <td>2020-12-19</td>\n",
              "      <td>Westchester</td>\n",
              "      <td>New York</td>\n",
              "      <td>36119.0</td>\n",
              "      <td>62404</td>\n",
              "      <td>1600.0</td>\n",
              "    </tr>\n",
              "    <tr>\n",
              "      <th>847777</th>\n",
              "      <td>2020-12-20</td>\n",
              "      <td>Westchester</td>\n",
              "      <td>New York</td>\n",
              "      <td>36119.0</td>\n",
              "      <td>62939</td>\n",
              "      <td>1606.0</td>\n",
              "    </tr>\n",
              "    <tr>\n",
              "      <th>851022</th>\n",
              "      <td>2020-12-21</td>\n",
              "      <td>Westchester</td>\n",
              "      <td>New York</td>\n",
              "      <td>36119.0</td>\n",
              "      <td>63372</td>\n",
              "      <td>1611.0</td>\n",
              "    </tr>\n",
              "    <tr>\n",
              "      <th>854267</th>\n",
              "      <td>2020-12-22</td>\n",
              "      <td>Westchester</td>\n",
              "      <td>New York</td>\n",
              "      <td>36119.0</td>\n",
              "      <td>63908</td>\n",
              "      <td>1617.0</td>\n",
              "    </tr>\n",
              "    <tr>\n",
              "      <th>857512</th>\n",
              "      <td>2020-12-23</td>\n",
              "      <td>Westchester</td>\n",
              "      <td>New York</td>\n",
              "      <td>36119.0</td>\n",
              "      <td>64559</td>\n",
              "      <td>1624.0</td>\n",
              "    </tr>\n",
              "    <tr>\n",
              "      <th>860757</th>\n",
              "      <td>2020-12-24</td>\n",
              "      <td>Westchester</td>\n",
              "      <td>New York</td>\n",
              "      <td>36119.0</td>\n",
              "      <td>65136</td>\n",
              "      <td>1628.0</td>\n",
              "    </tr>\n",
              "    <tr>\n",
              "      <th>864002</th>\n",
              "      <td>2020-12-25</td>\n",
              "      <td>Westchester</td>\n",
              "      <td>New York</td>\n",
              "      <td>36119.0</td>\n",
              "      <td>65850</td>\n",
              "      <td>1635.0</td>\n",
              "    </tr>\n",
              "    <tr>\n",
              "      <th>867247</th>\n",
              "      <td>2020-12-26</td>\n",
              "      <td>Westchester</td>\n",
              "      <td>New York</td>\n",
              "      <td>36119.0</td>\n",
              "      <td>66404</td>\n",
              "      <td>1639.0</td>\n",
              "    </tr>\n",
              "    <tr>\n",
              "      <th>870492</th>\n",
              "      <td>2020-12-27</td>\n",
              "      <td>Westchester</td>\n",
              "      <td>New York</td>\n",
              "      <td>36119.0</td>\n",
              "      <td>66836</td>\n",
              "      <td>1643.0</td>\n",
              "    </tr>\n",
              "    <tr>\n",
              "      <th>873737</th>\n",
              "      <td>2020-12-28</td>\n",
              "      <td>Westchester</td>\n",
              "      <td>New York</td>\n",
              "      <td>36119.0</td>\n",
              "      <td>67387</td>\n",
              "      <td>1652.0</td>\n",
              "    </tr>\n",
              "    <tr>\n",
              "      <th>876982</th>\n",
              "      <td>2020-12-29</td>\n",
              "      <td>Westchester</td>\n",
              "      <td>New York</td>\n",
              "      <td>36119.0</td>\n",
              "      <td>67930</td>\n",
              "      <td>1656.0</td>\n",
              "    </tr>\n",
              "    <tr>\n",
              "      <th>880227</th>\n",
              "      <td>2020-12-30</td>\n",
              "      <td>Westchester</td>\n",
              "      <td>New York</td>\n",
              "      <td>36119.0</td>\n",
              "      <td>68701</td>\n",
              "      <td>1661.0</td>\n",
              "    </tr>\n",
              "    <tr>\n",
              "      <th>883472</th>\n",
              "      <td>2020-12-31</td>\n",
              "      <td>Westchester</td>\n",
              "      <td>New York</td>\n",
              "      <td>36119.0</td>\n",
              "      <td>69660</td>\n",
              "      <td>1664.0</td>\n",
              "    </tr>\n",
              "  </tbody>\n",
              "</table>\n",
              "</div>"
            ],
            "text/plain": [
              "              date       county     state     fips  cases  deaths\n",
              "789354  2020-12-02  Westchester  New York  36119.0  51789  1520.0\n",
              "792600  2020-12-03  Westchester  New York  36119.0  52417  1525.0\n",
              "795845  2020-12-04  Westchester  New York  36119.0  53185  1527.0\n",
              "799091  2020-12-05  Westchester  New York  36119.0  53943  1527.0\n",
              "802337  2020-12-06  Westchester  New York  36119.0  54670  1529.0\n",
              "805582  2020-12-07  Westchester  New York  36119.0  55186  1534.0\n",
              "808827  2020-12-08  Westchester  New York  36119.0  55796  1539.0\n",
              "812072  2020-12-09  Westchester  New York  36119.0  56371  1545.0\n",
              "815317  2020-12-10  Westchester  New York  36119.0  56994  1550.0\n",
              "818563  2020-12-11  Westchester  New York  36119.0  57605  1553.0\n",
              "821809  2020-12-12  Westchester  New York  36119.0  58243  1558.0\n",
              "825056  2020-12-13  Westchester  New York  36119.0  58836  1562.0\n",
              "828302  2020-12-14  Westchester  New York  36119.0  59430  1568.0\n",
              "831549  2020-12-15  Westchester  New York  36119.0  59990  1575.0\n",
              "834795  2020-12-16  Westchester  New York  36119.0  60539  1581.0\n",
              "838041  2020-12-17  Westchester  New York  36119.0  61110  1584.0\n",
              "841286  2020-12-18  Westchester  New York  36119.0  61826  1594.0\n",
              "844532  2020-12-19  Westchester  New York  36119.0  62404  1600.0\n",
              "847777  2020-12-20  Westchester  New York  36119.0  62939  1606.0\n",
              "851022  2020-12-21  Westchester  New York  36119.0  63372  1611.0\n",
              "854267  2020-12-22  Westchester  New York  36119.0  63908  1617.0\n",
              "857512  2020-12-23  Westchester  New York  36119.0  64559  1624.0\n",
              "860757  2020-12-24  Westchester  New York  36119.0  65136  1628.0\n",
              "864002  2020-12-25  Westchester  New York  36119.0  65850  1635.0\n",
              "867247  2020-12-26  Westchester  New York  36119.0  66404  1639.0\n",
              "870492  2020-12-27  Westchester  New York  36119.0  66836  1643.0\n",
              "873737  2020-12-28  Westchester  New York  36119.0  67387  1652.0\n",
              "876982  2020-12-29  Westchester  New York  36119.0  67930  1656.0\n",
              "880227  2020-12-30  Westchester  New York  36119.0  68701  1661.0\n",
              "883472  2020-12-31  Westchester  New York  36119.0  69660  1664.0"
            ]
          },
          "metadata": {
            "tags": []
          },
          "execution_count": 35
        }
      ]
    },
    {
      "cell_type": "code",
      "metadata": {
        "colab": {
          "base_uri": "https://localhost:8080/"
        },
        "id": "gFfDstXrvi13",
        "outputId": "ce268f4c-baf2-4c20-d8f4-25cd9d77b026"
      },
      "source": [
        "latest_data.columns"
      ],
      "execution_count": 52,
      "outputs": [
        {
          "output_type": "execute_result",
          "data": {
            "text/plain": [
              "Index(['date', 'county', 'state', 'fips', 'cases', 'deaths'], dtype='object')"
            ]
          },
          "metadata": {
            "tags": []
          },
          "execution_count": 52
        }
      ]
    },
    {
      "cell_type": "code",
      "metadata": {
        "colab": {
          "base_uri": "https://localhost:8080/",
          "height": 282
        },
        "id": "q77DWcKGwADV",
        "outputId": "e78a5781-9119-4bf7-9903-86fbf72dc21c"
      },
      "source": [
        "latest_data_cases = latest_data[['cases','deaths']]\r\n",
        "latest_data_cases.plot()"
      ],
      "execution_count": 53,
      "outputs": [
        {
          "output_type": "execute_result",
          "data": {
            "text/plain": [
              "<matplotlib.axes._subplots.AxesSubplot at 0x7fb9eb9752e8>"
            ]
          },
          "metadata": {
            "tags": []
          },
          "execution_count": 53
        },
        {
          "output_type": "display_data",
          "data": {
            "image/png": "[encoded data removed]",
            "text/plain": [
              "<Figure size 432x288 with 1 Axes>"
            ]
          },
          "metadata": {
            "tags": [],
            "needs_background": "light"
          }
        }
      ]
    },
    {
      "cell_type": "code",
      "metadata": {
        "colab": {
          "base_uri": "https://localhost:8080/",
          "height": 979
        },
        "id": "V4QW-H7ewuai",
        "outputId": "6e695ee1-516c-4302-d63f-e9528e1570d1"
      },
      "source": [
        "latest_data_cases\r\n"
      ],
      "execution_count": 55,
      "outputs": [
        {
          "output_type": "execute_result",
          "data": {
            "text/html": [
              "<div>\n",
              "<style scoped>\n",
              "    .dataframe tbody tr th:only-of-type {\n",
              "        vertical-align: middle;\n",
              "    }\n",
              "\n",
              "    .dataframe tbody tr th {\n",
              "        vertical-align: top;\n",
              "    }\n",
              "\n",
              "    .dataframe thead th {\n",
              "        text-align: right;\n",
              "    }\n",
              "</style>\n",
              "<table border=\"1\" class=\"dataframe\">\n",
              "  <thead>\n",
              "    <tr style=\"text-align: right;\">\n",
              "      <th></th>\n",
              "      <th>cases</th>\n",
              "      <th>deaths</th>\n",
              "    </tr>\n",
              "  </thead>\n",
              "  <tbody>\n",
              "    <tr>\n",
              "      <th>789354</th>\n",
              "      <td>51789</td>\n",
              "      <td>1520.0</td>\n",
              "    </tr>\n",
              "    <tr>\n",
              "      <th>792600</th>\n",
              "      <td>52417</td>\n",
              "      <td>1525.0</td>\n",
              "    </tr>\n",
              "    <tr>\n",
              "      <th>795845</th>\n",
              "      <td>53185</td>\n",
              "      <td>1527.0</td>\n",
              "    </tr>\n",
              "    <tr>\n",
              "      <th>799091</th>\n",
              "      <td>53943</td>\n",
              "      <td>1527.0</td>\n",
              "    </tr>\n",
              "    <tr>\n",
              "      <th>802337</th>\n",
              "      <td>54670</td>\n",
              "      <td>1529.0</td>\n",
              "    </tr>\n",
              "    <tr>\n",
              "      <th>805582</th>\n",
              "      <td>55186</td>\n",
              "      <td>1534.0</td>\n",
              "    </tr>\n",
              "    <tr>\n",
              "      <th>808827</th>\n",
              "      <td>55796</td>\n",
              "      <td>1539.0</td>\n",
              "    </tr>\n",
              "    <tr>\n",
              "      <th>812072</th>\n",
              "      <td>56371</td>\n",
              "      <td>1545.0</td>\n",
              "    </tr>\n",
              "    <tr>\n",
              "      <th>815317</th>\n",
              "      <td>56994</td>\n",
              "      <td>1550.0</td>\n",
              "    </tr>\n",
              "    <tr>\n",
              "      <th>818563</th>\n",
              "      <td>57605</td>\n",
              "      <td>1553.0</td>\n",
              "    </tr>\n",
              "    <tr>\n",
              "      <th>821809</th>\n",
              "      <td>58243</td>\n",
              "      <td>1558.0</td>\n",
              "    </tr>\n",
              "    <tr>\n",
              "      <th>825056</th>\n",
              "      <td>58836</td>\n",
              "      <td>1562.0</td>\n",
              "    </tr>\n",
              "    <tr>\n",
              "      <th>828302</th>\n",
              "      <td>59430</td>\n",
              "      <td>1568.0</td>\n",
              "    </tr>\n",
              "    <tr>\n",
              "      <th>831549</th>\n",
              "      <td>59990</td>\n",
              "      <td>1575.0</td>\n",
              "    </tr>\n",
              "    <tr>\n",
              "      <th>834795</th>\n",
              "      <td>60539</td>\n",
              "      <td>1581.0</td>\n",
              "    </tr>\n",
              "    <tr>\n",
              "      <th>838041</th>\n",
              "      <td>61110</td>\n",
              "      <td>1584.0</td>\n",
              "    </tr>\n",
              "    <tr>\n",
              "      <th>841286</th>\n",
              "      <td>61826</td>\n",
              "      <td>1594.0</td>\n",
              "    </tr>\n",
              "    <tr>\n",
              "      <th>844532</th>\n",
              "      <td>62404</td>\n",
              "      <td>1600.0</td>\n",
              "    </tr>\n",
              "    <tr>\n",
              "      <th>847777</th>\n",
              "      <td>62939</td>\n",
              "      <td>1606.0</td>\n",
              "    </tr>\n",
              "    <tr>\n",
              "      <th>851022</th>\n",
              "      <td>63372</td>\n",
              "      <td>1611.0</td>\n",
              "    </tr>\n",
              "    <tr>\n",
              "      <th>854267</th>\n",
              "      <td>63908</td>\n",
              "      <td>1617.0</td>\n",
              "    </tr>\n",
              "    <tr>\n",
              "      <th>857512</th>\n",
              "      <td>64559</td>\n",
              "      <td>1624.0</td>\n",
              "    </tr>\n",
              "    <tr>\n",
              "      <th>860757</th>\n",
              "      <td>65136</td>\n",
              "      <td>1628.0</td>\n",
              "    </tr>\n",
              "    <tr>\n",
              "      <th>864002</th>\n",
              "      <td>65850</td>\n",
              "      <td>1635.0</td>\n",
              "    </tr>\n",
              "    <tr>\n",
              "      <th>867247</th>\n",
              "      <td>66404</td>\n",
              "      <td>1639.0</td>\n",
              "    </tr>\n",
              "    <tr>\n",
              "      <th>870492</th>\n",
              "      <td>66836</td>\n",
              "      <td>1643.0</td>\n",
              "    </tr>\n",
              "    <tr>\n",
              "      <th>873737</th>\n",
              "      <td>67387</td>\n",
              "      <td>1652.0</td>\n",
              "    </tr>\n",
              "    <tr>\n",
              "      <th>876982</th>\n",
              "      <td>67930</td>\n",
              "      <td>1656.0</td>\n",
              "    </tr>\n",
              "    <tr>\n",
              "      <th>880227</th>\n",
              "      <td>68701</td>\n",
              "      <td>1661.0</td>\n",
              "    </tr>\n",
              "    <tr>\n",
              "      <th>883472</th>\n",
              "      <td>69660</td>\n",
              "      <td>1664.0</td>\n",
              "    </tr>\n",
              "  </tbody>\n",
              "</table>\n",
              "</div>"
            ],
            "text/plain": [
              "        cases  deaths\n",
              "789354  51789  1520.0\n",
              "792600  52417  1525.0\n",
              "795845  53185  1527.0\n",
              "799091  53943  1527.0\n",
              "802337  54670  1529.0\n",
              "805582  55186  1534.0\n",
              "808827  55796  1539.0\n",
              "812072  56371  1545.0\n",
              "815317  56994  1550.0\n",
              "818563  57605  1553.0\n",
              "821809  58243  1558.0\n",
              "825056  58836  1562.0\n",
              "828302  59430  1568.0\n",
              "831549  59990  1575.0\n",
              "834795  60539  1581.0\n",
              "838041  61110  1584.0\n",
              "841286  61826  1594.0\n",
              "844532  62404  1600.0\n",
              "847777  62939  1606.0\n",
              "851022  63372  1611.0\n",
              "854267  63908  1617.0\n",
              "857512  64559  1624.0\n",
              "860757  65136  1628.0\n",
              "864002  65850  1635.0\n",
              "867247  66404  1639.0\n",
              "870492  66836  1643.0\n",
              "873737  67387  1652.0\n",
              "876982  67930  1656.0\n",
              "880227  68701  1661.0\n",
              "883472  69660  1664.0"
            ]
          },
          "metadata": {
            "tags": []
          },
          "execution_count": 55
        }
      ]
    },
    {
      "cell_type": "code",
      "metadata": {
        "colab": {
          "base_uri": "https://localhost:8080/",
          "height": 350
        },
        "id": "qdPfL059yDYS",
        "outputId": "7378eadb-b7d8-4e27-c28b-8b5937e1f09a"
      },
      "source": [
        "# Import the libraries\r\n",
        "import matplotlib.pyplot as plt\r\n",
        "import seaborn as sns\r\n",
        "\r\n",
        "# seaborn histogram\r\n",
        "sns.distplot(latest_data_cases['deaths'])"
      ],
      "execution_count": 61,
      "outputs": [
        {
          "output_type": "stream",
          "text": [
            "/usr/local/lib/python3.6/dist-packages/seaborn/distributions.py:2557: FutureWarning: `distplot` is a deprecated function and will be removed in a future version. Please adapt your code to use either `displot` (a figure-level function with similar flexibility) or `histplot` (an axes-level function for histograms).\n",
            "  warnings.warn(msg, FutureWarning)\n"
          ],
          "name": "stderr"
        },
        {
          "output_type": "execute_result",
          "data": {
            "text/plain": [
              "<matplotlib.axes._subplots.AxesSubplot at 0x7fb9d0f740f0>"
            ]
          },
          "metadata": {
            "tags": []
          },
          "execution_count": 61
        },
        {
          "output_type": "display_data",
          "data": {
            "image/png": "[encoded data removed]",
            "text/plain": [
              "<Figure size 432x288 with 1 Axes>"
            ]
          },
          "metadata": {
            "tags": [],
            "needs_background": "light"
          }
        }
      ]
    },
    {
      "cell_type": "code",
      "metadata": {
        "colab": {
          "base_uri": "https://localhost:8080/",
          "height": 458
        },
        "id": "XDayOtPLzbqZ",
        "outputId": "372872da-8c4e-478d-a893-3881646712bd"
      },
      "source": [
        "sns.jointplot(x='deaths',y='cases',data=latest_data_cases)"
      ],
      "execution_count": 67,
      "outputs": [
        {
          "output_type": "execute_result",
          "data": {
            "text/plain": [
              "<seaborn.axisgrid.JointGrid at 0x7fb9d0835630>"
            ]
          },
          "metadata": {
            "tags": []
          },
          "execution_count": 67
        },
        {
          "output_type": "display_data",
          "data": {
            "image/png": "[encoded data removed]",
            "text/plain": [
              "<Figure size 432x432 with 3 Axes>"
            ]
          },
          "metadata": {
            "tags": [],
            "needs_background": "light"
          }
        }
      ]
    }
  ]
}