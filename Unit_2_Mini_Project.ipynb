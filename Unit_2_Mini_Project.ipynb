{
  "nbformat": 4,
  "nbformat_minor": 0,
  "metadata": {
    "colab": {
      "name": "Unit 2 Mini Project.ipynb",
      "provenance": [],
      "authorship_tag": "ABX9TyM339s05p+GluDUYpH50F+/",
      "include_colab_link": true
    },
    "kernelspec": {
      "name": "python3",
      "display_name": "Python 3"
    }
  },
  "cells": [
    {
      "cell_type": "markdown",
      "metadata": {
        "id": "view-in-github",
        "colab_type": "text"
      },
      "source": [
        "<a href=\"https://colab.research.google.com/github/irisgomez74/Unit2_Python/blob/main/Unit_2_Mini_Project.ipynb\" target=\"_parent\"><img src=\"https://colab.research.google.com/assets/colab-badge.svg\" alt=\"Open In Colab\"/></a>"
      ]
    },
    {
      "cell_type": "code",
      "metadata": {
        "colab": {
          "base_uri": "https://localhost:8080/"
        },
        "id": "xww2vtCDqFBG",
        "outputId": "0d3ddd93-f8d1-4c0b-ae93-56ce1a159362"
      },
      "source": [
        "num1 = int(input('Give me a number...any number! ')) #set a variable\r\n",
        "if num1 % 2 == 0:\r\n",
        "    print(num1, \"is an even number\")\r\n",
        "else:\r\n",
        "    print(num1, \"is an odd number\") "
      ],
      "execution_count": 19,
      "outputs": [
        {
          "output_type": "stream",
          "text": [
            "Give me a number...any number! 32\n",
            "32 is an even number\n"
          ],
          "name": "stdout"
        }
      ]
    },
    {
      "cell_type": "code",
      "metadata": {
        "colab": {
          "base_uri": "https://localhost:8080/"
        },
        "id": "mD56FO30a5s4",
        "outputId": "d30fbf07-e9f4-4391-ae4e-929ae51318cf"
      },
      "source": [
        "num2 = int(input('Give me a number...any number! '))\r\n",
        "if num2 % 4 == 0:\r\n",
        "    print(num2, \"is a multiple of 4\")\r\n",
        "elif num2 % 2 == 0:\r\n",
        "    print(num2, \"is an even number\")\r\n",
        "else:\r\n",
        "    print(num2, \"is an odd number\") "
      ],
      "execution_count": 16,
      "outputs": [
        {
          "output_type": "stream",
          "text": [
            "Give me a number...any number! 16\n",
            "16 is a multiple of 4\n"
          ],
          "name": "stdout"
        }
      ]
    },
    {
      "cell_type": "code",
      "metadata": {
        "colab": {
          "base_uri": "https://localhost:8080/"
        },
        "id": "UcjR5rznebOy",
        "outputId": "813d5cc4-9e80-4081-f122-aa0d11a8cf3e"
      },
      "source": [
        "num3 = int(input(\"Give me a number to check: \"))\r\n",
        "check = int(input(\"Now, give me a number to divide by: \"))\r\n",
        "\r\n",
        "if num3 % 4 == 0:\r\n",
        "    print(num3, \"is number that is a multiple of 4!\")\r\n",
        "elif num3 % 2 == 0:\r\n",
        "    print(num3, \"is an even number!\")\r\n",
        "else:\r\n",
        "    print(num3, \"is an odd number!\")\r\n",
        "\r\n",
        "if num3 % check == 0:\r\n",
        "    print(num3, \"divides evenly by\", check)\r\n",
        "else:\r\n",
        "    print(num3, \"does not divide evenly by\", check)"
      ],
      "execution_count": 14,
      "outputs": [
        {
          "output_type": "stream",
          "text": [
            "Give me a number to check: 871568\n",
            "Now, give me a number to divide by: 56\n",
            "871568 is number that is a multiple of 4!\n",
            "871568 does not divide evenly by 56\n"
          ],
          "name": "stdout"
        }
      ]
    }
  ]
}