{
  "nbformat": 4,
  "nbformat_minor": 0,
  "metadata": {
    "colab": {
      "name": "Unit 2 Lesson 6 Dictionaries.ipynb",
      "provenance": [],
      "authorship_tag": "ABX9TyPnPo1h8MFyEXvhrm0gzYv3",
      "include_colab_link": true
    },
    "kernelspec": {
      "name": "python3",
      "display_name": "Python 3"
    }
  },
  "cells": [
    {
      "cell_type": "markdown",
      "metadata": {
        "id": "view-in-github",
        "colab_type": "text"
      },
      "source": [
        "<a href=\"https://colab.research.google.com/github/irisgomez74/Unit2_Python/blob/main/Unit_2_Lesson_6_Dictionaries.ipynb\" target=\"_parent\"><img src=\"https://colab.research.google.com/assets/colab-badge.svg\" alt=\"Open In Colab\"/></a>"
      ]
    },
    {
      "cell_type": "code",
      "metadata": {
        "colab": {
          "base_uri": "https://localhost:8080/"
        },
        "id": "V_6WsjeWRJHn",
        "outputId": "57a9de9a-8edb-49c5-daf7-cff00d089a3a"
      },
      "source": [
        "#Dictionaries are in brackets. Dictionaries are key-value pairs.\r\n",
        "patient_1 = {'first_name': 'John', 'last_name': 'Kimble'}\r\n",
        "print(patient_1['first_name'] + ' ' + patient_1 ['last_name'])\r\n"
      ],
      "execution_count": null,
      "outputs": [
        {
          "output_type": "stream",
          "text": [
            "John Kimble\n"
          ],
          "name": "stdout"
        }
      ]
    },
    {
      "cell_type": "code",
      "metadata": {
        "colab": {
          "base_uri": "https://localhost:8080/"
        },
        "id": "4ytBZeplS5wB",
        "outputId": "f0b61c3a-5946-485b-959b-85ff53c812a0"
      },
      "source": [
        "patient_1 = {'first_name': 'John', 'last_name': 'Kimble'}\r\n",
        "patient_name = patient_1['first_name']\r\n",
        "print('Hello there, ' + patient_name + '.')"
      ],
      "execution_count": null,
      "outputs": [
        {
          "output_type": "stream",
          "text": [
            "Hello there, John.\n"
          ],
          "name": "stdout"
        }
      ]
    },
    {
      "cell_type": "code",
      "metadata": {
        "colab": {
          "base_uri": "https://localhost:8080/"
        },
        "id": "8mByogo-TvZA",
        "outputId": "ad46b96e-dd3e-4875-ab6b-7f889717a54b"
      },
      "source": [
        "patient_1['MRN'] = '000000000'\r\n",
        "patient_1['Last_exam'] = 'echo'\r\n",
        "patient_1"
      ],
      "execution_count": null,
      "outputs": [
        {
          "output_type": "execute_result",
          "data": {
            "text/plain": [
              "{'Last_exam': 'echo',\n",
              " 'MRN': '000000000',\n",
              " 'first_name': 'John',\n",
              " 'last_name': 'Kimble'}"
            ]
          },
          "metadata": {
            "tags": []
          },
          "execution_count": 9
        }
      ]
    },
    {
      "cell_type": "code",
      "metadata": {
        "colab": {
          "base_uri": "https://localhost:8080/"
        },
        "id": "rytYZErgUEzh",
        "outputId": "d2e06c76-92b1-4f54-a3ed-2d653917bcd8"
      },
      "source": [
        "patient_2 = {}\r\n",
        "patient_2['first_name'] = 'Jean'\r\n",
        "patient_2['last_name'] = 'Picard'\r\n",
        "print(patient_2)\r\n",
        "print(patient_2['first_name'] + ' ' + patient_2 ['last_name'])"
      ],
      "execution_count": null,
      "outputs": [
        {
          "output_type": "stream",
          "text": [
            "{'first_name': 'Jean', 'last_name': 'Picard'}\n",
            "Jean Picard\n"
          ],
          "name": "stdout"
        }
      ]
    },
    {
      "cell_type": "code",
      "metadata": {
        "colab": {
          "base_uri": "https://localhost:8080/"
        },
        "id": "mqPvKQ6vVQcz",
        "outputId": "ab3be642-cdfd-4fa9-c077-fd9ad941c102"
      },
      "source": [
        "patient_2['first_name'] = 'Jean-Luc'\r\n",
        "print(patient_2)\r\n",
        "print(patient_2['first_name'] + ' ' + patient_2 ['last_name'])"
      ],
      "execution_count": null,
      "outputs": [
        {
          "output_type": "stream",
          "text": [
            "{'first_name': 'Jean-Luc', 'last_name': 'Picard'}\n",
            "Jean-Luc Picard\n"
          ],
          "name": "stdout"
        }
      ]
    },
    {
      "cell_type": "code",
      "metadata": {
        "colab": {
          "base_uri": "https://localhost:8080/"
        },
        "id": "Z19VS2jrWnqP",
        "outputId": "25bf49dd-9d29-4116-e748-290c7f53f937"
      },
      "source": [
        "del patient_2['first_name']\r\n",
        "print(patient_2)"
      ],
      "execution_count": null,
      "outputs": [
        {
          "output_type": "stream",
          "text": [
            "{'last_name': 'Picard'}\n"
          ],
          "name": "stdout"
        }
      ]
    },
    {
      "cell_type": "code",
      "metadata": {
        "colab": {
          "base_uri": "https://localhost:8080/"
        },
        "id": "2-QsdgRAXr0-",
        "outputId": "883e606e-ca27-4c0d-c684-1fc6e167454d"
      },
      "source": [
        "patient_3 = {\r\n",
        "    'first_name': 'jack',\r\n",
        "    'last_name': 'sparrow',\r\n",
        "    'mrn': '001234567',\r\n",
        "    'dob': '02231845'\r\n",
        "}\r\n",
        "print(patient_3)\r\n",
        "print(patient_3['first_name'].title() + ' ' + patient_3 ['last_name'].upper())\r\n",
        "print(\"Patient_3's DOB is \" + patient_3['dob'])"
      ],
      "execution_count": null,
      "outputs": [
        {
          "output_type": "stream",
          "text": [
            "{'first_name': 'jack', 'last_name': 'sparrow', 'mrn': '001234567', 'dob': '02231845'}\n",
            "Jack SPARROW\n",
            "Patient_3's DOB is 02231845\n"
          ],
          "name": "stdout"
        }
      ]
    },
    {
      "cell_type": "code",
      "metadata": {
        "colab": {
          "base_uri": "https://localhost:8080/"
        },
        "id": "Jcd5KSi3Zsto",
        "outputId": "7ec7f16a-1c0a-42f7-c353-2edb299e39a4"
      },
      "source": [
        "person_i_know = {\r\n",
        "    'first_name':'Brianna',\r\n",
        "    'last_name':'Davis',\r\n",
        "    'age':24,\r\n",
        "    'city':'Brooklyn',\r\n",
        "    'relationship':'daughter'\r\n",
        "}\r\n",
        "\r\n",
        "print(person_i_know)\r\n",
        "print(person_i_know['first_name'] + ' ' + person_i_know['last_name'] + ' is my oldest ' + person_i_know['relationship'] \r\n",
        "      + ' and she is ' + str(person_i_know ['age']) + '.' + ' She was born in ' + person_i_know['city'] + '.')"
      ],
      "execution_count": null,
      "outputs": [
        {
          "output_type": "stream",
          "text": [
            "{'first_name': 'Brianna', 'last_name': 'Davis', 'age': 24, 'city': 'Brooklyn', 'relationship': 'daughter'}\n",
            "Brianna Davis is my oldest daughter and she is 24. She was born in Brooklyn.\n"
          ],
          "name": "stdout"
        }
      ]
    },
    {
      "cell_type": "code",
      "metadata": {
        "colab": {
          "base_uri": "https://localhost:8080/"
        },
        "id": "SDlBdyv_caj6",
        "outputId": "0474af4f-12e4-4a96-8a9b-b0760e7b78e6"
      },
      "source": [
        "people_i_know = {\r\n",
        "    'person_1':{\r\n",
        "        'name':'Dean',\r\n",
        "        'age':8\r\n",
        "    },\r\n",
        "    'person_2':{\r\n",
        "        'name':'Samuel',\r\n",
        "        'age':8\r\n",
        "    },\r\n",
        "    'person_3':{\r\n",
        "        'name':'Imogene',\r\n",
        "        'age':3\r\n",
        "    },\r\n",
        "    'person_4':{\r\n",
        "        'name':'Brianna',\r\n",
        "        'age':24\r\n",
        "    },\r\n",
        "    'person_5':{\r\n",
        "        'name':'Ahmed',\r\n",
        "        'age':43\r\n",
        "    }\r\n",
        "}\r\n",
        "print(people_i_know)\r\n",
        "for person, info in people_i_know.items():\r\n",
        "    print('\\nperson', info)\r\n",
        "   "
      ],
      "execution_count": null,
      "outputs": [
        {
          "output_type": "stream",
          "text": [
            "{'person_1': {'name': 'Dean', 'age': 8}, 'person_2': {'name': 'Samuel', 'age': 8}, 'person_3': {'name': 'Imogene', 'age': 3}, 'person_4': {'name': 'Brianna', 'age': 24}, 'person_5': {'name': 'Ahmed', 'age': 43}}\n",
            "\n",
            "person {'name': 'Dean', 'age': 8}\n",
            "\n",
            "person {'name': 'Samuel', 'age': 8}\n",
            "\n",
            "person {'name': 'Imogene', 'age': 3}\n",
            "\n",
            "person {'name': 'Brianna', 'age': 24}\n",
            "\n",
            "person {'name': 'Ahmed', 'age': 43}\n"
          ],
          "name": "stdout"
        }
      ]
    },
    {
      "cell_type": "code",
      "metadata": {
        "colab": {
          "base_uri": "https://localhost:8080/"
        },
        "id": "gdRQo87SlR8j",
        "outputId": "c6e8d500-6d39-4ac6-ad1e-ed2f2450817f"
      },
      "source": [
        "dict = {\r\n",
        "    'variables':'containers for storing data values',\r\n",
        "    'strings':'surrounded by either single or double quotation marks',\r\n",
        "    'lists':'used to store multiple items in a single variable'\r\n",
        "}\r\n",
        "for item_1, item_2 in dict.items():\r\n",
        "    print(item_1.title() + ': ' + item_2.title() + '.')"
      ],
      "execution_count": null,
      "outputs": [
        {
          "output_type": "stream",
          "text": [
            "Variables: Containers For Storing Data Values.\n",
            "Strings: Surrounded By Either Single Or Double Quotation Marks.\n",
            "Lists: Used To Store Multiple Items In A Single Variable.\n"
          ],
          "name": "stdout"
        }
      ]
    },
    {
      "cell_type": "code",
      "metadata": {
        "colab": {
          "base_uri": "https://localhost:8080/"
        },
        "id": "nSXkL3mowQ6C",
        "outputId": "c8562283-8aed-4e61-b785-8437fb83355c"
      },
      "source": [
        "for key, value in patient_3.items():\r\n",
        "    print('\\nkey: ' + key)\r\n",
        "    print('\\nvalue: ' + value)"
      ],
      "execution_count": null,
      "outputs": [
        {
          "output_type": "stream",
          "text": [
            "\n",
            "key: first_name\n",
            "\n",
            "value: jack\n",
            "\n",
            "key: last_name\n",
            "\n",
            "value: sparrow\n",
            "\n",
            "key: mrn\n",
            "\n",
            "value: 001234567\n",
            "\n",
            "key: dob\n",
            "\n",
            "value: 02231845\n"
          ],
          "name": "stdout"
        }
      ]
    },
    {
      "cell_type": "code",
      "metadata": {
        "colab": {
          "base_uri": "https://localhost:8080/"
        },
        "id": "A_dw_PaXww1N",
        "outputId": "927193ae-6b4c-4199-f514-5f35b4cdbd25"
      },
      "source": [
        "for keys in patient_3.keys():\r\n",
        "    print(keys)"
      ],
      "execution_count": null,
      "outputs": [
        {
          "output_type": "stream",
          "text": [
            "first_name\n",
            "last_name\n",
            "mrn\n",
            "dob\n"
          ],
          "name": "stdout"
        }
      ]
    },
    {
      "cell_type": "code",
      "metadata": {
        "colab": {
          "base_uri": "https://localhost:8080/"
        },
        "id": "ORtTIdvfw903",
        "outputId": "feaa0afe-2ad8-434d-cd98-f85299ad9997"
      },
      "source": [
        "friends_ages = {\r\n",
        "    'nick':'30',\r\n",
        "    'amanda':'34',\r\n",
        "    'john':'36',\r\n",
        "    'haley':'26'\r\n",
        "}\r\n",
        "\r\n",
        "fav_friends = ['nick', 'amanda']\r\n",
        "for name, age in friends_ages.items():\r\n",
        "    \r\n",
        "    if name in fav_friends:\r\n",
        "        print('Hi, favorite friend ' + name.title() + ', I see you are ' + friends_ages[name] + '.')\r\n",
        "    else:\r\n",
        "        print(\"It's nice to see you \" + name.title() + '.' + ' You are ' + age + ' years old.')"
      ],
      "execution_count": null,
      "outputs": [
        {
          "output_type": "stream",
          "text": [
            "Hi, favorite friend Nick, I see you are 30.\n",
            "Hi, favorite friend Amanda, I see you are 34.\n",
            "It's nice to see you John. You are 36 years old.\n",
            "It's nice to see you Haley. You are 26 years old.\n"
          ],
          "name": "stdout"
        }
      ]
    },
    {
      "cell_type": "code",
      "metadata": {
        "colab": {
          "base_uri": "https://localhost:8080/"
        },
        "id": "p4k4cXEX9PxM",
        "outputId": "d8fa94d0-62a3-4713-9417-1773cd444ee7"
      },
      "source": [
        "number = 1\r\n",
        "while number <= 5:\r\n",
        "    print(number)\r\n",
        "    number += 1 #counter"
      ],
      "execution_count": null,
      "outputs": [
        {
          "output_type": "stream",
          "text": [
            "1\n",
            "2\n",
            "3\n",
            "4\n",
            "5\n"
          ],
          "name": "stdout"
        }
      ]
    },
    {
      "cell_type": "code",
      "metadata": {
        "colab": {
          "base_uri": "https://localhost:8080/"
        },
        "id": "PfxgAglo8pd4",
        "outputId": "0fb7c0fd-ddf2-4888-e57c-6acdaf7088c0"
      },
      "source": [
        "message = input('Please enter your first name ')\r\n",
        "print(message)"
      ],
      "execution_count": null,
      "outputs": [
        {
          "output_type": "stream",
          "text": [
            "Please enter your first name Iris\n",
            "Iris\n"
          ],
          "name": "stdout"
        }
      ]
    },
    {
      "cell_type": "code",
      "metadata": {
        "colab": {
          "base_uri": "https://localhost:8080/"
        },
        "id": "rMuwwlkl9e2i",
        "outputId": "8d88eb7c-bdc8-45b6-b603-70e919a4439d"
      },
      "source": [
        "prompt = \"Input a message. I will repeat it until you type 'quit'. \"\r\n",
        "message = ''\r\n",
        "\r\n",
        "while message != 'quit':\r\n",
        "    message = input(prompt)\r\n",
        "    print(message)"
      ],
      "execution_count": null,
      "outputs": [
        {
          "output_type": "stream",
          "text": [
            "Input a message. I will repeat it until you type 'quit'. never\n",
            "never\n",
            "Input a message. I will repeat it until you type 'quit'. rarely\n",
            "rarely\n",
            "Input a message. I will repeat it until you type 'quit'. almost\n",
            "almost\n",
            "Input a message. I will repeat it until you type 'quit'. quit\n",
            "quit\n"
          ],
          "name": "stdout"
        }
      ]
    },
    {
      "cell_type": "code",
      "metadata": {
        "colab": {
          "base_uri": "https://localhost:8080/"
        },
        "id": "RoQrjMJz-R_L",
        "outputId": "db52481c-c4b8-44d6-d15b-6865e1fed531"
      },
      "source": [
        "prompt = \"Input a message. I will repeat it util you type 'quit' \"\r\n",
        "message = ''\r\n",
        "\r\n",
        "active = True\r\n",
        "while active:\r\n",
        "    message = input(prompt)\r\n",
        "\r\n",
        "    if message == 'quit':\r\n",
        "        active = False\r\n",
        "\r\n",
        "    else:\r\n",
        "        print(message)    \r\n"
      ],
      "execution_count": null,
      "outputs": [
        {
          "output_type": "stream",
          "text": [
            "Input a message. I will repeat it util you type 'quit' hello\n",
            "hello\n",
            "Input a message. I will repeat it util you type 'quit' no\n",
            "no\n",
            "Input a message. I will repeat it util you type 'quit' quit\n"
          ],
          "name": "stdout"
        }
      ]
    },
    {
      "cell_type": "code",
      "metadata": {
        "colab": {
          "base_uri": "https://localhost:8080/"
        },
        "id": "yJT4WJTPADTv",
        "outputId": "07efdc15-6d07-4231-a946-84bbdb7b5b2c"
      },
      "source": [
        "person = {\r\n",
        "    'first_name':'dan',\r\n",
        "    'last_name':'rather'\r\n",
        "}\r\n",
        "\r\n",
        "print('Hello, ' + person['first_name'].title() + ' ' + person['last_name'].title() + '.')"
      ],
      "execution_count": null,
      "outputs": [
        {
          "output_type": "stream",
          "text": [
            "Hello, Dan Rather.\n"
          ],
          "name": "stdout"
        }
      ]
    },
    {
      "cell_type": "code",
      "metadata": {
        "id": "oIliqm87A8lR"
      },
      "source": [
        ""
      ],
      "execution_count": null,
      "outputs": []
    }
  ]
}